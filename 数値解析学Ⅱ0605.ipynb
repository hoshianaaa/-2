{
 "cells": [
  {
   "cell_type": "code",
   "execution_count": 3,
   "metadata": {},
   "outputs": [
    {
     "name": "stderr",
     "output_type": "stream",
     "text": [
      "C:\\Users\\wwwho\\Anaconda3\\lib\\site-packages\\h5py\\__init__.py:36: FutureWarning: Conversion of the second argument of issubdtype from `float` to `np.floating` is deprecated. In future, it will be treated as `np.float64 == np.dtype(float).type`.\n",
      "  from ._conv import register_converters as _register_converters\n",
      "Using TensorFlow backend.\n"
     ]
    }
   ],
   "source": [
    "import numpy as np\n",
    "import keras"
   ]
  },
  {
   "cell_type": "code",
   "execution_count": 4,
   "metadata": {},
   "outputs": [],
   "source": [
    "from keras.datasets import mnist\n",
    "(X_train, y_train), (X_test, y_test) = mnist.load_data()\n",
    "\n",
    "#print(x_train)\n",
    "#print(x_train[1])#28*28の行列\n",
    "#print(len(x_train[1]))#28\n",
    "#print(len(x_train[2]))#28\n",
    "#print(len(x_train))#60000\n",
    "#print(type(x_train))#class 'numpy.ndarray'\n",
    "#print(x_train.ndim)#3\n",
    "#print(x_train.shape)# (60000, 28, 28)\n",
    "#print(x_train.shape[0])# 60000\n",
    "\n",
    "\n",
    "#print(y_train.ndim)#1\n",
    "#print(y_train.shape)# (60000,)\n",
    "#print(y_train.shape[0])# 60000\n",
    "#print(y_train)#0~9"
   ]
  },
  {
   "cell_type": "code",
   "execution_count": 5,
   "metadata": {},
   "outputs": [],
   "source": [
    "img_rows, img_cols = 28,28\n",
    "\n",
    "\n",
    "#print(img_rows * img_cols)# 784\n",
    "#print(X_train.reshape(X_train.shape[0], img_rows * img_cols).shape)# (60000, 784)\n",
    "\n",
    "X_train = X_train.reshape(X_train.shape[0], img_rows * img_cols)[0:10000]\n",
    "X_test = X_test.reshape(X_test.shape[0], img_rows * img_cols)[0:1000]\n",
    "\n",
    "#print(X_train)\n",
    "#print(len(X_train[1]))#784\n",
    "#print(len(X_train[2]))#784\n",
    "#print(len(X_train))#10000\n",
    "#print(X_train.ndim)# 2\n",
    "#print(X_train.shape)# (10000, 784)\n",
    "\n",
    "#print(X_train.astype('float32'))\n",
    "\n",
    "\n",
    "X_train = X_train.astype('float32')\n",
    "X_test = X_test.astype('float32')\n",
    "X_train /= 255\n",
    "X_test /= 255\n",
    "\n",
    "#print(X_train)"
   ]
  },
  {
   "cell_type": "code",
   "execution_count": 6,
   "metadata": {},
   "outputs": [],
   "source": [
    "from keras.utils import np_utils\n",
    "Y_train = np_utils.to_categorical(y_train)[0:10000]\n",
    "Y_test = np_utils.to_categorical(y_test)[0:10000]\n",
    "#print(Y_train.shape)# (10000, 10)\n",
    "#print(Y_test.shape)# (10000, 10)\n",
    "#print(Y_train)\n",
    "#print(Y_test)"
   ]
  },
  {
   "cell_type": "code",
   "execution_count": 7,
   "metadata": {},
   "outputs": [
    {
     "name": "stdout",
     "output_type": "stream",
     "text": [
      "[[1. 0.]\n",
      " [1. 0.]\n",
      " [0. 1.]\n",
      " [1. 0.]]\n",
      "[[1. 0. 0.]\n",
      " [1. 0. 0.]\n",
      " [0. 1. 0.]\n",
      " [1. 0. 0.]\n",
      " [0. 0. 1.]\n",
      " [0. 0. 1.]\n",
      " [1. 0. 0.]]\n",
      "[[[1. 0.]\n",
      "  [1. 0.]]\n",
      "\n",
      " [[0. 1.]\n",
      "  [1. 0.]]]\n"
     ]
    }
   ],
   "source": [
    "labels = [0,0,1,0]\n",
    "labels = np_utils.to_categorical(labels)\n",
    "print(labels)\n",
    "\n",
    "labels = [0,0,1,0,2,2,0]\n",
    "labels = np_utils.to_categorical(labels)\n",
    "print(labels)\n",
    "\n",
    "labels = [[0,0],[1,0]]\n",
    "labels = np_utils.to_categorical(labels)\n",
    "print(labels)"
   ]
  },
  {
   "cell_type": "code",
   "execution_count": 8,
   "metadata": {},
   "outputs": [],
   "source": [
    "from keras.models import Sequential\n",
    "from keras.layers import Dense, Activation\n",
    "from keras.optimizers import SGD"
   ]
  },
  {
   "cell_type": "code",
   "execution_count": 9,
   "metadata": {},
   "outputs": [],
   "source": [
    "input_shape = X_train[0].shape\n",
    "#print(X_train[0].shape)# (784,)\n",
    "n_hidden = 20\n",
    "n_out = len(Y_train[0])\n",
    "#print(len(Y_train[0]))# 10"
   ]
  },
  {
   "cell_type": "markdown",
   "metadata": {},
   "source": []
  },
  {
   "cell_type": "code",
   "execution_count": 10,
   "metadata": {},
   "outputs": [
    {
     "name": "stdout",
     "output_type": "stream",
     "text": [
      "WARNING:tensorflow:From C:\\Users\\wwwho\\Anaconda3\\lib\\site-packages\\tensorflow\\python\\framework\\op_def_library.py:263: colocate_with (from tensorflow.python.framework.ops) is deprecated and will be removed in a future version.\n",
      "Instructions for updating:\n",
      "Colocations handled automatically by placer.\n",
      "_________________________________________________________________\n",
      "Layer (type)                 Output Shape              Param #   \n",
      "=================================================================\n",
      "dense_1 (Dense)              (None, 20)                15700     \n",
      "_________________________________________________________________\n",
      "dense_2 (Dense)              (None, 20)                420       \n",
      "_________________________________________________________________\n",
      "dense_3 (Dense)              (None, 20)                420       \n",
      "_________________________________________________________________\n",
      "dense_4 (Dense)              (None, 20)                420       \n",
      "_________________________________________________________________\n",
      "dense_5 (Dense)              (None, 10)                210       \n",
      "=================================================================\n",
      "Total params: 17,170\n",
      "Trainable params: 17,170\n",
      "Non-trainable params: 0\n",
      "_________________________________________________________________\n"
     ]
    }
   ],
   "source": [
    "model = Sequential()\n",
    "model.add(Dense(n_hidden, input_shape=input_shape, activation='sigmoid'))\n",
    "model.add(Dense(n_hidden, input_shape=input_shape, activation='sigmoid'))\n",
    "model.add(Dense(n_hidden, input_shape=input_shape, activation='sigmoid'))\n",
    "model.add(Dense(n_hidden, input_shape=input_shape, activation='sigmoid'))\n",
    "model.add(Dense(n_out, activation='sigmoid'))\n",
    "model.summary()"
   ]
  },
  {
   "cell_type": "code",
   "execution_count": 11,
   "metadata": {},
   "outputs": [
    {
     "name": "stdout",
     "output_type": "stream",
     "text": [
      "_________________________________________________________________\n",
      "Layer (type)                 Output Shape              Param #   \n",
      "=================================================================\n",
      "dense_6 (Dense)              (None, 20)                15700     \n",
      "_________________________________________________________________\n",
      "dense_7 (Dense)              (None, 10)                210       \n",
      "=================================================================\n",
      "Total params: 15,910\n",
      "Trainable params: 15,910\n",
      "Non-trainable params: 0\n",
      "_________________________________________________________________\n"
     ]
    }
   ],
   "source": [
    "model = Sequential()\n",
    "model.add(Dense(n_hidden, input_shape=input_shape, activation='sigmoid'))\n",
    "model.add(Dense(n_out, activation='sigmoid'))\n",
    "model.summary()"
   ]
  },
  {
   "cell_type": "code",
   "execution_count": 12,
   "metadata": {},
   "outputs": [],
   "source": [
    "model.compile(loss='mean_squared_error', optimizer=SGD(lr=0.1),\n",
    "             metrics = ['accuracy'])"
   ]
  },
  {
   "cell_type": "code",
   "execution_count": 15,
   "metadata": {},
   "outputs": [
    {
     "name": "stdout",
     "output_type": "stream",
     "text": [
      "Epoch 1/10\n",
      "10000/10000 [==============================] - 1s 78us/step - loss: 0.0875 - acc: 0.3450\n",
      "Epoch 2/10\n",
      "10000/10000 [==============================] - 0s 29us/step - loss: 0.0872 - acc: 0.3506\n",
      "Epoch 3/10\n",
      "10000/10000 [==============================] - 0s 29us/step - loss: 0.0870 - acc: 0.3569\n",
      "Epoch 4/10\n",
      "10000/10000 [==============================] - 0s 25us/step - loss: 0.0868 - acc: 0.3614\n",
      "Epoch 5/10\n",
      "10000/10000 [==============================] - 0s 30us/step - loss: 0.0866 - acc: 0.3661\n",
      "Epoch 6/10\n",
      "10000/10000 [==============================] - 0s 25us/step - loss: 0.0863 - acc: 0.3704\n",
      "Epoch 7/10\n",
      "10000/10000 [==============================] - 0s 25us/step - loss: 0.0861 - acc: 0.3736\n",
      "Epoch 8/10\n",
      "10000/10000 [==============================] - 0s 25us/step - loss: 0.0858 - acc: 0.3747\n",
      "Epoch 9/10\n",
      "10000/10000 [==============================] - 0s 24us/step - loss: 0.0856 - acc: 0.3765\n",
      "Epoch 10/10\n",
      "10000/10000 [==============================] - 0s 31us/step - loss: 0.0853 - acc: 0.3777\n"
     ]
    },
    {
     "data": {
      "text/plain": [
       "<keras.callbacks.History at 0x1e67849e400>"
      ]
     },
     "execution_count": 15,
     "metadata": {},
     "output_type": "execute_result"
    }
   ],
   "source": [
    "model.fit(X_train, Y_train, epochs=10, batch_size=128)"
   ]
  },
  {
   "cell_type": "code",
   "execution_count": 16,
   "metadata": {},
   "outputs": [
    {
     "name": "stdout",
     "output_type": "stream",
     "text": [
      "Test loss: 0.09098965400457382\n",
      "Test accuracy: 0.1069\n"
     ]
    }
   ],
   "source": [
    "score = model.evaluate(X_train, Y_test, verbose=0)\n",
    "print('Test loss:', score[0])\n",
    "print('Test accuracy:', score[1])"
   ]
  },
  {
   "cell_type": "code",
   "execution_count": null,
   "metadata": {},
   "outputs": [],
   "source": []
  }
 ],
 "metadata": {
  "kernelspec": {
   "display_name": "Python 3",
   "language": "python",
   "name": "python3"
  },
  "language_info": {
   "codemirror_mode": {
    "name": "ipython",
    "version": 3
   },
   "file_extension": ".py",
   "mimetype": "text/x-python",
   "name": "python",
   "nbconvert_exporter": "python",
   "pygments_lexer": "ipython3",
   "version": "3.6.4"
  }
 },
 "nbformat": 4,
 "nbformat_minor": 2
}
